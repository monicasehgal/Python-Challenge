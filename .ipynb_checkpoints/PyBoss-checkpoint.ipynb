{
 "cells": [
  {
   "cell_type": "code",
   "execution_count": 20,
   "metadata": {},
   "outputs": [],
   "source": [
    "import os\n",
    "import csv\n",
    "import pandas as pd\n",
    "\n",
    "csvpathA = os.path.join(\"employee_data1.csv\")\n",
    "csvpathB = os.path.join(\"employee_data2.csv\")\n",
    "csvpathB = os.path.join(\"us_state_abbrev.py\")\n",
    "\n",
    "EmployA_df = pd.read_csv(csvpathA, encoding=\"utf-8\")\n",
    "EmployB_df = pd.read_csv(csvpathB, encoding=\"utf-8\")\n",
    "\n",
    "sum_df=pd.DataFrame(EmployA_df)\n",
    "\n",
    "sum_df = EmployA_df.append(EmployB_df,ignore_index=True)\n",
    "\n",
    "sum_df\n",
    "\n",
    "#A = Sum_df.Name.str.split(' ', expand = True)\n",
    "#B = Sum_df['First_Name'] = Sum_df.Name.str.split(' ', expand = True)[0]\n",
    "#sum_df.head()\n",
    "\n",
    "\n",
    "#Format the DOB into DD-MM-YYYY format\n",
    "sum_df[\"DateOfBirth\"]= pd.to_datetime(sum_df['DOB']).dt.strftime(\"%d-%m-%Y\")\n",
    "\n",
    "# Splitting the name into first and Last name\n",
    "sum_df[\"FN\"]= sum_df.Name.str.split(' ', expand = True)[0]\n",
    "sum_df[\"LN\"]= sum_df.Name.str.split(' ', expand = True)[1] \n",
    "\n",
    "#loop for DF\n",
    "for index,row in sum_df.iterrows():\n",
    "     row[\"Name\"]   \n",
    "#    Item1= row[\"SSN\"][0:3]=(\"*\",\"*\",\"*\")\n",
    "#    Item2= row[\"SSN\"][4:6]=(\"*\",\"*\")\n",
    "#    JoinedItem =  Item1.join(Item2)\n",
    "#    print(\"joint\",JoinedItem)\n",
    "#sum_df\n",
    "                                    \n",
    "#sum_df[\"B\"] = Sum_df['DOB']).dt.strftime(\"%d-%m-%Y\")\n",
    "\n",
    "#sum_df.head()\n",
    "   \n",
    "#df['First_Name'] = Sum_df.Name.str.split(' ', expand = True)[0]\n",
    "#df['Last_Name'] = Sum_df.Name.str.split(' ', expand = True)[1]\n",
    "#print(df)\n",
    "#Split_df= EmployA_df.join(EmployA_df.name.str.extract('(?P<First>\\S+)\\s+(?P<Last>\\S+)', expand=True))\n",
    "#print(Sum_df.Name.str.split(' ', expand = True))\n",
    "#print (df)\n",
    "\n",
    "#FirstName = []\n",
    "#LastName =[]\n",
    "\n",
    "\n",
    "#for index,row in sum_df.iterrows():\n",
    "#    splitname = row[\"Name\"].astype(str).split(\" \")\n",
    "#    FirstName.append(splitname[0])\n",
    "#    LastName.append(splitname[1])    \n",
    "#FirstName"
   ]
  },
  {
   "cell_type": "code",
   "execution_count": 4,
   "metadata": {},
   "outputs": [
    {
     "ename": "AttributeError",
     "evalue": "'str' object has no attribute 'astype'",
     "output_type": "error",
     "traceback": [
      "\u001b[1;31m---------------------------------------------------------------------------\u001b[0m",
      "\u001b[1;31mAttributeError\u001b[0m                            Traceback (most recent call last)",
      "\u001b[1;32m<ipython-input-4-9e7f654dad52>\u001b[0m in \u001b[0;36m<module>\u001b[1;34m()\u001b[0m\n\u001b[0;32m      4\u001b[0m \u001b[1;33m\u001b[0m\u001b[0m\n\u001b[0;32m      5\u001b[0m \u001b[1;32mfor\u001b[0m \u001b[0mindex\u001b[0m\u001b[1;33m,\u001b[0m\u001b[0mrow\u001b[0m \u001b[1;32min\u001b[0m \u001b[0msum_df\u001b[0m\u001b[1;33m.\u001b[0m\u001b[0miterrows\u001b[0m\u001b[1;33m(\u001b[0m\u001b[1;33m)\u001b[0m\u001b[1;33m:\u001b[0m\u001b[1;33m\u001b[0m\u001b[0m\n\u001b[1;32m----> 6\u001b[1;33m     \u001b[0msplitname\u001b[0m \u001b[1;33m=\u001b[0m \u001b[0mrow\u001b[0m\u001b[1;33m[\u001b[0m\u001b[1;34m\"Name\"\u001b[0m\u001b[1;33m]\u001b[0m\u001b[1;33m.\u001b[0m\u001b[0mastype\u001b[0m\u001b[1;33m(\u001b[0m\u001b[0mstr\u001b[0m\u001b[1;33m)\u001b[0m\u001b[1;33m.\u001b[0m\u001b[0msplit\u001b[0m\u001b[1;33m(\u001b[0m\u001b[1;34m\" \"\u001b[0m\u001b[1;33m)\u001b[0m\u001b[1;33m\u001b[0m\u001b[0m\n\u001b[0m\u001b[0;32m      7\u001b[0m     \u001b[0mFirstName\u001b[0m\u001b[1;33m.\u001b[0m\u001b[0mappend\u001b[0m\u001b[1;33m(\u001b[0m\u001b[0msplitname\u001b[0m\u001b[1;33m[\u001b[0m\u001b[1;36m0\u001b[0m\u001b[1;33m]\u001b[0m\u001b[1;33m)\u001b[0m\u001b[1;33m\u001b[0m\u001b[0m\n\u001b[0;32m      8\u001b[0m     \u001b[0mLastName\u001b[0m\u001b[1;33m.\u001b[0m\u001b[0mappend\u001b[0m\u001b[1;33m(\u001b[0m\u001b[0msplitname\u001b[0m\u001b[1;33m[\u001b[0m\u001b[1;36m1\u001b[0m\u001b[1;33m]\u001b[0m\u001b[1;33m)\u001b[0m\u001b[1;33m\u001b[0m\u001b[0m\n",
      "\u001b[1;31mAttributeError\u001b[0m: 'str' object has no attribute 'astype'"
     ]
    }
   ],
   "source": []
  },
  {
   "cell_type": "code",
   "execution_count": null,
   "metadata": {
    "collapsed": true
   },
   "outputs": [],
   "source": []
  }
 ],
 "metadata": {
  "kernelspec": {
   "display_name": "Python 3",
   "language": "python",
   "name": "python3"
  },
  "language_info": {
   "codemirror_mode": {
    "name": "ipython",
    "version": 3
   },
   "file_extension": ".py",
   "mimetype": "text/x-python",
   "name": "python",
   "nbconvert_exporter": "python",
   "pygments_lexer": "ipython3",
   "version": "3.6.3"
  }
 },
 "nbformat": 4,
 "nbformat_minor": 2
}
