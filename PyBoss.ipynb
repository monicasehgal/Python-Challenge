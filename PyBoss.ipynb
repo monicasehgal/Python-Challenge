{
 "cells": [
  {
   "cell_type": "code",
   "execution_count": 19,
   "metadata": {},
   "outputs": [
    {
     "name": "stdout",
     "output_type": "stream",
     "text": [
      "      Emp ID                Name         DOB          SSN           State\n",
      "0        214       Sarah Simpson   12/4/1985  282-01-8166         Florida\n",
      "1         15       Samantha Lara    9/8/1993  848-80-7526        Colorado\n",
      "2        411       Stacy Charles  12/20/1957  658-75-8526    Pennsylvania\n",
      "3        166        Michelle Roy   7/29/1978  794-25-3944        Michigan\n",
      "4         39       Joseph Rogers   3/28/1985  525-40-3515       Minnesota\n",
      "5        423         Erica Hines  10/13/1975  034-90-6153        New York\n",
      "6        192           Zoe Patel  12/20/1967  037-50-0817       Wisconsin\n",
      "7        162      Matthew Harvey   1/20/1990  244-53-0346       Tennessee\n",
      "8        131         Shawn Davis   7/21/1961  309-08-1581   West Virginia\n",
      "9         20       April Baldwin    8/7/1961  068-61-2014        Missouri\n",
      "10       246     Vincent Daniels    1/6/1972  319-38-2754         Montana\n",
      "11       525          Ann Fields   8/22/1960  752-98-7911            Iowa\n",
      "12       392     Jeffrey Pearson    5/5/1979  171-82-2578        Illinois\n",
      "13       474     Heather Johnson   9/23/1989  724-30-0904         Georgia\n",
      "14       478    Melissa Fletcher   3/14/1979  899-91-6881    Rhode Island\n",
      "15       101    Kimberly Alvarez    9/4/1984  138-08-8680       Louisiana\n",
      "16        52      Monica Jimenez    4/8/1988  835-26-1668    North Dakota\n",
      "17       182      Steven Johnson   5/28/1962  026-20-7070        Nebraska\n",
      "18       637          Sarah Wood   6/15/1972  235-96-6715         Florida\n",
      "19       510      Jesus Petersen   3/28/1958  133-75-0770        Oklahoma\n",
      "20       122      Rhonda Rosales   4/10/1963  498-27-0286         Alabama\n",
      "21       294   Nicole Richardson    9/9/1981  369-83-5228       Louisiana\n",
      "22       327     Jennifer Mendez   7/20/1977  736-41-1994          Oregon\n",
      "23       145        Sandra Petty   1/30/1981  702-18-7629  North Carolina\n",
      "24       565      Michael Hester   4/13/1987  022-21-6836    South Dakota\n",
      "25       590        Joseph Brown   8/28/1982  517-03-4744   New Hampshire\n",
      "26       340     Michelle Cooper   8/23/1993  056-59-2306      Washington\n",
      "27       176        Barbara Wise  12/15/1991  894-82-7662         Indiana\n",
      "28        63       Carol Rosales   7/20/1984  874-92-4907      New Jersey\n",
      "29       121          Mark Villa   2/24/1969  700-15-2207     Mississippi\n",
      "...      ...                 ...         ...          ...             ...\n",
      "2740     804        Gail Johnson    6/6/1990  812-88-3613     Connecticut\n",
      "2741     212        Connie Olsen  12/30/1988  784-63-6860            Ohio\n",
      "2742     417      Michael Church  11/27/1959  754-04-5079        Kentucky\n",
      "2743     555         Mike Wilson  12/23/1962  696-71-7316       Minnesota\n",
      "2744     519      Crystal Fisher  11/10/1972  797-94-9745           Idaho\n",
      "2745     232      Charles Duncan   2/14/1980  424-69-9851  North Carolina\n",
      "2746     898         Roy Perkins  10/10/1988  474-91-8096         Florida\n",
      "2747      24      Dustin Jackson    1/6/1979  627-48-2345          Hawaii\n",
      "2748    2086     Laura Contreras   5/17/1962  648-01-6546         Wyoming\n",
      "2749    1709      Timothy Morton    7/2/1993  712-03-3871    South Dakota\n",
      "2750    1606       John Morrison   1/10/1984  215-78-4470   Massachusetts\n",
      "2751    1917         Joseph Wood   11/2/1957  355-11-5341         Florida\n",
      "2752     928        Oscar Romero    3/8/1987  733-98-5634        Illinois\n",
      "2753    1175      Shannon Wilson  11/19/1969  356-71-3974            Utah\n",
      "2754    1500     James Armstrong   7/23/1975  499-78-4550    North Dakota\n",
      "2755     848      Ronnie Ellison   4/22/1980  238-55-2267      Washington\n",
      "2756     216       Joshua Wilcox   9/27/1986  652-11-7150        Oklahoma\n",
      "2757     274         Bryan Rocha    2/3/1964  601-30-8996         Arizona\n",
      "2758     756       Matthew Flynn   10/5/1957  570-68-1385        Virginia\n",
      "2759    1925       Amanda Turner  12/28/1960  175-25-7060       Minnesota\n",
      "2760    1731        Steven White    3/5/1959  145-14-4892   Massachusetts\n",
      "2761    1019        Andrea Berry   2/14/1989  006-84-6290         Alabama\n",
      "2762    1155         Shawn Burke    1/1/1960  751-20-9071      California\n",
      "2763     449       Rhonda Wilson    1/8/1987  113-68-0832         Vermont\n",
      "2764     115            Jay Hart   5/14/1963  013-46-6255     Connecticut\n",
      "2765    1636     Ashley Martinez   4/13/1986  081-06-5385          Nevada\n",
      "2766      84  Elizabeth Johnston    8/3/1974  129-88-2936        Illinois\n",
      "2767    1478      Andrew Acevedo   6/29/1991  759-08-6963         Montana\n",
      "2768     384      Michelle Lynch   3/28/1972  680-54-8040    Pennsylvania\n",
      "2769    1582      Cristian Gibbs    2/8/1963  321-19-9478     Connecticut\n",
      "\n",
      "[2770 rows x 5 columns]\n"
     ]
    },
    {
     "ename": "ValueError",
     "evalue": "Array conditional must be same shape as self",
     "output_type": "error",
     "traceback": [
      "\u001b[1;31m---------------------------------------------------------------------------\u001b[0m",
      "\u001b[1;31mValueError\u001b[0m                                Traceback (most recent call last)",
      "\u001b[1;32m<ipython-input-19-6352707d31bb>\u001b[0m in \u001b[0;36m<module>\u001b[1;34m()\u001b[0m\n\u001b[0;32m     15\u001b[0m \u001b[1;31m#print(pd.to_datetime(Sum_df['DOB']).dt.strftime(\"%d-%m-%Y\"))\u001b[0m\u001b[1;33m\u001b[0m\u001b[1;33m\u001b[0m\u001b[0m\n\u001b[0;32m     16\u001b[0m \u001b[0mSum_df\u001b[0m\u001b[1;33m.\u001b[0m\u001b[0mcolumns\u001b[0m\u001b[1;33m\u001b[0m\u001b[0m\n\u001b[1;32m---> 17\u001b[1;33m \u001b[0mSum_df\u001b[0m\u001b[1;33m[\u001b[0m\u001b[1;34m'SSN'\u001b[0m\u001b[1;33m]\u001b[0m\u001b[1;33m.\u001b[0m\u001b[0mmask\u001b[0m\u001b[1;33m(\u001b[0m\u001b[1;36m7\u001b[0m\u001b[1;33m,\u001b[0m\u001b[1;34m\"#\"\u001b[0m\u001b[1;33m)\u001b[0m\u001b[1;33m\u001b[0m\u001b[0m\n\u001b[0m\u001b[0;32m     18\u001b[0m \u001b[1;31m#df['First_Name'] = Sum_df.Name.str.split(' ', expand = True)[0]\u001b[0m\u001b[1;33m\u001b[0m\u001b[1;33m\u001b[0m\u001b[0m\n\u001b[0;32m     19\u001b[0m \u001b[1;31m#df['Last_Name'] = Sum_df.Name.str.split(' ', expand = True)[1]\u001b[0m\u001b[1;33m\u001b[0m\u001b[1;33m\u001b[0m\u001b[0m\n",
      "\u001b[1;32m~\\Anaconda3\\lib\\site-packages\\pandas\\core\\generic.py\u001b[0m in \u001b[0;36mmask\u001b[1;34m(self, cond, other, inplace, axis, level, try_cast, raise_on_error)\u001b[0m\n\u001b[0;32m   5350\u001b[0m         return self.where(~cond, other=other, inplace=inplace, axis=axis,\n\u001b[0;32m   5351\u001b[0m                           \u001b[0mlevel\u001b[0m\u001b[1;33m=\u001b[0m\u001b[0mlevel\u001b[0m\u001b[1;33m,\u001b[0m \u001b[0mtry_cast\u001b[0m\u001b[1;33m=\u001b[0m\u001b[0mtry_cast\u001b[0m\u001b[1;33m,\u001b[0m\u001b[1;33m\u001b[0m\u001b[0m\n\u001b[1;32m-> 5352\u001b[1;33m                           raise_on_error=raise_on_error)\n\u001b[0m\u001b[0;32m   5353\u001b[0m \u001b[1;33m\u001b[0m\u001b[0m\n\u001b[0;32m   5354\u001b[0m     _shared_docs['shift'] = (\"\"\"\n",
      "\u001b[1;32m~\\Anaconda3\\lib\\site-packages\\pandas\\core\\generic.py\u001b[0m in \u001b[0;36mwhere\u001b[1;34m(self, cond, other, inplace, axis, level, try_cast, raise_on_error)\u001b[0m\n\u001b[0;32m   5338\u001b[0m         \u001b[0mother\u001b[0m \u001b[1;33m=\u001b[0m \u001b[0mcom\u001b[0m\u001b[1;33m.\u001b[0m\u001b[0m_apply_if_callable\u001b[0m\u001b[1;33m(\u001b[0m\u001b[0mother\u001b[0m\u001b[1;33m,\u001b[0m \u001b[0mself\u001b[0m\u001b[1;33m)\u001b[0m\u001b[1;33m\u001b[0m\u001b[0m\n\u001b[0;32m   5339\u001b[0m         return self._where(cond, other, inplace, axis, level, try_cast,\n\u001b[1;32m-> 5340\u001b[1;33m                            raise_on_error)\n\u001b[0m\u001b[0;32m   5341\u001b[0m \u001b[1;33m\u001b[0m\u001b[0m\n\u001b[0;32m   5342\u001b[0m     @Appender(_shared_docs['where'] % dict(_shared_doc_kwargs, cond=\"False\",\n",
      "\u001b[1;32m~\\Anaconda3\\lib\\site-packages\\pandas\\core\\generic.py\u001b[0m in \u001b[0;36m_where\u001b[1;34m(self, cond, other, inplace, axis, level, try_cast, raise_on_error)\u001b[0m\n\u001b[0;32m   5079\u001b[0m                 \u001b[0mcond\u001b[0m \u001b[1;33m=\u001b[0m \u001b[0mnp\u001b[0m\u001b[1;33m.\u001b[0m\u001b[0masanyarray\u001b[0m\u001b[1;33m(\u001b[0m\u001b[0mcond\u001b[0m\u001b[1;33m)\u001b[0m\u001b[1;33m\u001b[0m\u001b[0m\n\u001b[0;32m   5080\u001b[0m             \u001b[1;32mif\u001b[0m \u001b[0mcond\u001b[0m\u001b[1;33m.\u001b[0m\u001b[0mshape\u001b[0m \u001b[1;33m!=\u001b[0m \u001b[0mself\u001b[0m\u001b[1;33m.\u001b[0m\u001b[0mshape\u001b[0m\u001b[1;33m:\u001b[0m\u001b[1;33m\u001b[0m\u001b[0m\n\u001b[1;32m-> 5081\u001b[1;33m                 raise ValueError('Array conditional must be same shape as '\n\u001b[0m\u001b[0;32m   5082\u001b[0m                                  'self')\n\u001b[0;32m   5083\u001b[0m             \u001b[0mcond\u001b[0m \u001b[1;33m=\u001b[0m \u001b[0mself\u001b[0m\u001b[1;33m.\u001b[0m\u001b[0m_constructor\u001b[0m\u001b[1;33m(\u001b[0m\u001b[0mcond\u001b[0m\u001b[1;33m,\u001b[0m \u001b[1;33m**\u001b[0m\u001b[0mself\u001b[0m\u001b[1;33m.\u001b[0m\u001b[0m_construct_axes_dict\u001b[0m\u001b[1;33m(\u001b[0m\u001b[1;33m)\u001b[0m\u001b[1;33m)\u001b[0m\u001b[1;33m\u001b[0m\u001b[0m\n",
      "\u001b[1;31mValueError\u001b[0m: Array conditional must be same shape as self"
     ]
    }
   ],
   "source": [
    "import os\n",
    "import csv\n",
    "import pandas as pd\n",
    "\n",
    "csvpathA = os.path.join(\"employee_data1.csv\")\n",
    "csvpathB = os.path.join(\"employee_data2.csv\")\n",
    "EmployA_df = pd.read_csv(csvpathA, encoding=\"utf-8\")\n",
    "EmployB_df = pd.read_csv(csvpathB, encoding=\"utf-8\")\n",
    "\n",
    "\n",
    "Sum_df= EmployA_df.append(EmployB_df,ignore_index=True)\n",
    "print(Sum_df)\n",
    "#print(Sum_df.Name.str.split(' ', expand = True))\n",
    "#print(pd.to_datetime(Sum_df['DOB']).dt.strftime(\"%d-%m-%Y\"))\n",
    "#print(pd.to_datetime(Sum_df['DOB']).dt.strftime(\"%d-%m-%Y\"))\n",
    "Sum_df.columns\n",
    "Sum_df['SSN'].mask(7,\"#\")    \n",
    "#df['First_Name'] = Sum_df.Name.str.split(' ', expand = True)[0]\n",
    "#df['Last_Name'] = Sum_df.Name.str.split(' ', expand = True)[1]\n",
    "#print(df)\n",
    "#Split_df= EmployA_df.join(EmployA_df.name.str.extract('(?P<First>\\S+)\\s+(?P<Last>\\S+)', expand=True))\n",
    "\n",
    "#print (df)"
   ]
  },
  {
   "cell_type": "code",
   "execution_count": null,
   "metadata": {
    "collapsed": true
   },
   "outputs": [],
   "source": []
  }
 ],
 "metadata": {
  "kernelspec": {
   "display_name": "Python 3",
   "language": "python",
   "name": "python3"
  },
  "language_info": {
   "codemirror_mode": {
    "name": "ipython",
    "version": 3
   },
   "file_extension": ".py",
   "mimetype": "text/x-python",
   "name": "python",
   "nbconvert_exporter": "python",
   "pygments_lexer": "ipython3",
   "version": "3.6.3"
  }
 },
 "nbformat": 4,
 "nbformat_minor": 2
}
