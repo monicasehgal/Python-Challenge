{
 "cells": [
  {
   "cell_type": "code",
   "execution_count": 56,
   "metadata": {},
   "outputs": [
    {
     "name": "stdout",
     "output_type": "stream",
     "text": [
      "Election Results\n",
      "-------------------------------------\n",
      "1. ~ Total number of Votes 4324001\n",
      "----------------------------------------\n",
      "for candidate  Khan     51.3004275438 %     and    # of votes are --->    2218231\n",
      "The winner is:  2218231\n",
      "for candidate  Correy     16.2858426721 %     and    # of votes are --->    704200\n",
      "The winner is:  2218231\n",
      "for candidate  Li     11.4000898705 %     and    # of votes are --->    492940\n",
      "The winner is:  2218231\n",
      "for candidate  Vestal     8.91396648613 %     and    # of votes are --->    385440\n",
      "The winner is:  2218231\n",
      "for candidate  Torres     8.17113594562 %     and    # of votes are --->    353320\n",
      "The winner is:  2218231\n",
      "for candidate  O'Tooley     2.44287640081 %     and    # of votes are --->    105630\n",
      "The winner is:  2218231\n",
      "for candidate  Seth     0.928538175639 %     and    # of votes are --->    40150\n",
      "The winner is:  2218231\n",
      "for candidate  Cordin     0.557122905383 %     and    # of votes are --->    24090\n",
      "The winner is:  2218231\n",
      "-----------------------------------------------------\n"
     ]
    }
   ],
   "source": [
    "import os\n",
    "import csv\n",
    "import pandas as pd\n",
    "\n",
    "csvpathA = os.path.join(\"election_data_1.csv\")\n",
    "csvpathB = os.path.join(\"election_data_2.csv\")\n",
    "votesA_df = pd.read_csv(csvpathA, encoding=\"utf-8\")\n",
    "votesB_df = pd.read_csv(csvpathB, encoding=\"utf-8\")\n",
    "\n",
    "Sum_df= votesA_df.append(votesB_df,ignore_index=True)\n",
    "#print (Sum_df)\n",
    "\n",
    "#count\n",
    "Cand_count = Sum_df[\"Candidate\"].count()\n",
    "print(\"Election Results\")\n",
    "print(\"-------------------------------------\")\n",
    "print(\"1. ~ Total number of Votes\", Cand_count)\n",
    "print(\"----------------------------------------\")\n",
    "\n",
    "# put candidate name as keys to list\n",
    "#voter_cnt_keys= Sum_df[\"Candidate\"].value_counts(sort=True).keys().tolist()\n",
    "\n",
    "#candidate count to list\n",
    "#voter_cnt = Sum_df[\"Candidate\"].value_counts(sort=True).tolist()\n",
    "\n",
    "\n",
    "#calculate Max\n",
    "voter_cnt = Sum_df[\"Candidate\"].value_counts(sort=True)\n",
    "#print(voter_cnt)\n",
    "\n",
    "\n",
    "for i, v in voter_cnt.items():\n",
    "    print(\"for candidate \", i,\"   \",  v*100/Cand_count, \"%\", '    and    # of votes are --->   ', v,)\n",
    "    \n",
    "    \n",
    "\n",
    "    print(\"The winner is: \", voter_cnt[\"Khan\"])\n",
    "    \n",
    "print(\"-----------------------------------------------------\")"
   ]
  },
  {
   "cell_type": "code",
   "execution_count": null,
   "metadata": {
    "collapsed": true
   },
   "outputs": [],
   "source": []
  }
 ],
 "metadata": {
  "kernelspec": {
   "display_name": "Python 3",
   "language": "python",
   "name": "python3"
  },
  "language_info": {
   "codemirror_mode": {
    "name": "ipython",
    "version": 3
   },
   "file_extension": ".py",
   "mimetype": "text/x-python",
   "name": "python",
   "nbconvert_exporter": "python",
   "pygments_lexer": "ipython3",
   "version": "3.6.3"
  }
 },
 "nbformat": 4,
 "nbformat_minor": 2
}
